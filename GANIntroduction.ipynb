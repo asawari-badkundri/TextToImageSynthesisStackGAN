{
  "nbformat": 4,
  "nbformat_minor": 0,
  "metadata": {
    "colab": {
      "provenance": [],
      "gpuType": "T4"
    },
    "kernelspec": {
      "name": "python3",
      "display_name": "Python 3"
    },
    "language_info": {
      "name": "python"
    },
    "accelerator": "GPU"
  },
  "cells": [
    {
      "cell_type": "markdown",
      "source": [
        "1. Import required libraries"
      ],
      "metadata": {
        "id": "1ho_MYfrYkfy"
      }
    },
    {
      "cell_type": "code",
      "execution_count": null,
      "metadata": {
        "id": "qR0LZ2CaXq6S"
      },
      "outputs": [],
      "source": [
        "import keras\n",
        "import tensorflow as tf\n",
        "from keras.datasets import mnist\n",
        "from keras.layers import Input, Dense, Reshape, Flatten\n",
        "from keras.layers import BatchNormalization\n",
        "from keras.layers.activation import LeakyReLU\n",
        "from keras.models import Sequential, Model\n",
        "from keras.optimizers import Adam\n",
        "import matplotlib.pyplot as plt\n",
        "import numpy as np"
      ]
    },
    {
      "cell_type": "markdown",
      "source": [
        "2. Define loss variables"
      ],
      "metadata": {
        "id": "ncDzovbku_WR"
      }
    },
    {
      "cell_type": "code",
      "source": [
        "global d_loss_arr, g_loss_arr\n",
        "d_loss_arr = []\n",
        "g_loss_arr = []"
      ],
      "metadata": {
        "id": "ZdgLoYH1sUu2"
      },
      "execution_count": null,
      "outputs": []
    },
    {
      "cell_type": "markdown",
      "source": [
        "3. Build generator"
      ],
      "metadata": {
        "id": "rcQ_dT7DukkJ"
      }
    },
    {
      "cell_type": "code",
      "source": [
        "def generator_b():\n",
        "  # irow = 28\n",
        "  # icol = 28\n",
        "  # ichannels = 1\n",
        "  # img_shape = (irow, icol, ichannels)\n",
        "  noise_shape = (100,)\n",
        "  model = Sequential()\n",
        "  #layers -> Dense->LeakyReLU->BatchNorm->Dense->LeakyReLU->BatchNorm->Dense->LeakyReLU->BatchNorm->Dense\n",
        "  model.add(Dense(256, input_shape = noise_shape))\n",
        "  model.add(LeakyReLU(alpha=0.2))\n",
        "  model.add(BatchNormalization(momentum = 0.8))\n",
        "\n",
        "  model.add(Dense(512))\n",
        "  model.add(LeakyReLU(alpha=0.2))\n",
        "  model.add(BatchNormalization(momentum = 0.8))\n",
        "\n",
        "  model.add(Dense(1024))\n",
        "  model.add(LeakyReLU(alpha=0.2))\n",
        "  model.add(BatchNormalization(momentum = 0.8))\n",
        "\n",
        "  model.add(Dense(np.prod(img_shape),activation='tanh'))\n",
        "  model.add(Reshape(img_shape))\n",
        "\n",
        "  model.summary()\n",
        "\n",
        "  noise = Input(shape = noise_shape)\n",
        "  img = model(noise)\n",
        "\n",
        "  return Model(noise, img)\n",
        "\n"
      ],
      "metadata": {
        "id": "izBOuxEuY6IN"
      },
      "execution_count": null,
      "outputs": []
    },
    {
      "cell_type": "markdown",
      "source": [
        "4. Build Discriminator"
      ],
      "metadata": {
        "id": "GkhA-_VJux0D"
      }
    },
    {
      "cell_type": "code",
      "source": [
        "def discriminator_b():\n",
        "  # irow = 28\n",
        "  # icol = 28\n",
        "  # ichannels = 1\n",
        "  img_shape = (irow, icol, ichannels)\n",
        "  model = Sequential()\n",
        "\n",
        "  model.add(Flatten(input_shape=img_shape))\n",
        "  model.add(Dense(512))\n",
        "  model.add(LeakyReLU(alpha=0.2))\n",
        "\n",
        "  model.add(Dense(256))\n",
        "  model.add(LeakyReLU(alpha=0.2))\n",
        "  model.add(Dense(1,activation='sigmoid'))\n",
        "\n",
        "  model.summary()\n",
        "  img = Input(shape=img_shape)\n",
        "  validity = model(img)\n",
        "\n",
        "  return Model(img, validity)"
      ],
      "metadata": {
        "id": "5Wm1XCE6ujOk"
      },
      "execution_count": null,
      "outputs": []
    },
    {
      "cell_type": "markdown",
      "source": [
        "4. Train the model"
      ],
      "metadata": {
        "id": "ohXOamnWv6zg"
      }
    },
    {
      "cell_type": "code",
      "source": [
        "def train_model(epochs, batch_size = 128, save_interval = 500):\n",
        "  (X_train, _),(_, _) = mnist.load_data()\n",
        "  X_train = (X_train.astype(np.float32)-127.5)/127.5\n",
        "  X_train = np.expand_dims(X_train, axis = 3)\n",
        "  half_batch = int(batch_size/2)\n",
        "\n",
        "  for epoch in range(epochs):\n",
        "    #training discriminator\n",
        "    index = np.random.randint(0, X_train.shape[0],half_batch)\n",
        "    imgs = X_train[index]\n",
        "    noise = np.random.normal(0, 1, (half_batch, 100))\n",
        "    gen_imgs = generator.predict(noise)\n",
        "\n",
        "    d_loss_real = discriminator.train_on_batch(imgs, np.ones((half_batch, 1)))\n",
        "    d_loss_fake = discriminator.train_on_batch(gen_imgs, np.zeros((half_batch, 1)))\n",
        "    d_loss = 0.5 * np.add(d_loss_real, d_loss_fake)\n",
        "\n",
        "    #train generator\n",
        "    noise = np.random.normal(0, 1,(batch_size, 100))\n",
        "    valid_y = np.array([1]*batch_size)\n",
        "    g_loss = combined.train_on_batch(noise, valid_y)\n",
        "\n",
        "    print('%d [D loss: %f, acc.:%.2f%%] [G loss: %f]' % (epoch, d_loss[0], 100*d_loss[1], g_loss))\n",
        "\n",
        "    if epoch%save_interval == 0:\n",
        "      save_imgs(epoch)\n",
        "    g_loss_arr.append(g_loss)\n",
        "    d_loss_arr.append(d_loss[0])\n",
        "    # return loss\n",
        "\n",
        "\n"
      ],
      "metadata": {
        "id": "_fnVODhXv6Xb"
      },
      "execution_count": null,
      "outputs": []
    },
    {
      "cell_type": "markdown",
      "source": [
        "5. Save images"
      ],
      "metadata": {
        "id": "OzOxiHav3Bep"
      }
    },
    {
      "cell_type": "code",
      "source": [
        "def save_imgs(epochs):\n",
        "  r, c = 5, 5\n",
        "  noise = np.random.normal(0, 1, (r*c, 100))\n",
        "  gen_imgs = generator.predict(noise)\n",
        "  gen_imgs = 0.5*gen_imgs + 0.5\n",
        "  fig, axis = plt.subplots(r, c)\n",
        "  count = 0\n",
        "  for i in range(r):\n",
        "    for j in range(c):\n",
        "      axis[i, j].imshow(gen_imgs[count,:,:,0], cmap = 'gray')\n",
        "      axis[i, j].axis('off')\n",
        "      count += 1\n",
        "  fig.savefig('mnist_%d'%epochs)\n",
        "  plt.close()\n"
      ],
      "metadata": {
        "id": "aTcpY5gv11N2"
      },
      "execution_count": null,
      "outputs": []
    },
    {
      "cell_type": "markdown",
      "source": [
        "6. Main function"
      ],
      "metadata": {
        "id": "8RGfV8c13hP8"
      }
    },
    {
      "cell_type": "code",
      "source": [
        "optimizer = Adam(0.0002, 0.5)\n",
        "\n",
        "irow = 28\n",
        "icol = 28\n",
        "ichannels = 1\n",
        "img_shape = (irow, icol, ichannels)\n",
        "\n",
        "discriminator = discriminator_b()\n",
        "discriminator.compile(loss = 'binary_crossentropy', optimizer = optimizer, metrics = ['accuracy'])\n",
        "\n",
        "generator = generator_b()\n",
        "generator.compile(loss = 'binary_crossentropy', optimizer = optimizer)\n",
        "\n",
        "z = Input(shape = (100,))\n",
        "img = generator(z)\n",
        "loss = []\n",
        "discriminator.trainable = False\n",
        "valid = discriminator(img)\n",
        "combined = Model(z, valid)\n",
        "combined.compile(loss = 'binary_crossentropy', optimizer = optimizer)\n",
        "train_model(epochs = 5, batch_size = 32, save_interval = 20)\n",
        "# print(loss[0][0], loss[1], '++')\n",
        "print(d_loss_arr, g_loss_arr)\n",
        "generator.save('gen_model_test.h5')\n"
      ],
      "metadata": {
        "colab": {
          "base_uri": "https://localhost:8080/"
        },
        "id": "cNLtIyWcv6VO",
        "outputId": "9ff86fe6-75cb-4608-a99a-40a418d668f5"
      },
      "execution_count": null,
      "outputs": [
        {
          "output_type": "stream",
          "name": "stdout",
          "text": [
            "Model: \"sequential_4\"\n",
            "_________________________________________________________________\n",
            " Layer (type)                Output Shape              Param #   \n",
            "=================================================================\n",
            " flatten_2 (Flatten)         (None, 784)               0         \n",
            "                                                                 \n",
            " dense_14 (Dense)            (None, 512)               401920    \n",
            "                                                                 \n",
            " leaky_re_lu_10 (LeakyReLU)  (None, 512)               0         \n",
            "                                                                 \n",
            " dense_15 (Dense)            (None, 256)               131328    \n",
            "                                                                 \n",
            " leaky_re_lu_11 (LeakyReLU)  (None, 256)               0         \n",
            "                                                                 \n",
            " dense_16 (Dense)            (None, 1)                 257       \n",
            "                                                                 \n",
            "=================================================================\n",
            "Total params: 533,505\n",
            "Trainable params: 533,505\n",
            "Non-trainable params: 0\n",
            "_________________________________________________________________\n",
            "Model: \"sequential_5\"\n",
            "_________________________________________________________________\n",
            " Layer (type)                Output Shape              Param #   \n",
            "=================================================================\n",
            " dense_17 (Dense)            (None, 256)               25856     \n",
            "                                                                 \n",
            " leaky_re_lu_12 (LeakyReLU)  (None, 256)               0         \n",
            "                                                                 \n",
            " batch_normalization_6 (Batc  (None, 256)              1024      \n",
            " hNormalization)                                                 \n",
            "                                                                 \n",
            " dense_18 (Dense)            (None, 512)               131584    \n",
            "                                                                 \n",
            " leaky_re_lu_13 (LeakyReLU)  (None, 512)               0         \n",
            "                                                                 \n",
            " batch_normalization_7 (Batc  (None, 512)              2048      \n",
            " hNormalization)                                                 \n",
            "                                                                 \n",
            " dense_19 (Dense)            (None, 1024)              525312    \n",
            "                                                                 \n",
            " leaky_re_lu_14 (LeakyReLU)  (None, 1024)              0         \n",
            "                                                                 \n",
            " batch_normalization_8 (Batc  (None, 1024)             4096      \n",
            " hNormalization)                                                 \n",
            "                                                                 \n",
            " dense_20 (Dense)            (None, 784)               803600    \n",
            "                                                                 \n",
            " reshape_2 (Reshape)         (None, 28, 28, 1)         0         \n",
            "                                                                 \n",
            "=================================================================\n",
            "Total params: 1,493,520\n",
            "Trainable params: 1,489,936\n",
            "Non-trainable params: 3,584\n",
            "_________________________________________________________________\n",
            "1/1 [==============================] - 0s 108ms/step\n",
            "0 [D loss: 0.597277, acc.:75.00%] [G loss: 0.838789]\n",
            "1/1 [==============================] - 0s 31ms/step\n",
            "1/1 [==============================] - 0s 30ms/step\n",
            "1 [D loss: 0.305980, acc.:100.00%] [G loss: 0.858666]\n",
            "1/1 [==============================] - 0s 31ms/step\n",
            "2 [D loss: 0.293273, acc.:100.00%] [G loss: 0.899340]\n",
            "1/1 [==============================] - 0s 33ms/step\n",
            "3 [D loss: 0.298007, acc.:93.75%] [G loss: 0.968904]\n",
            "1/1 [==============================] - 0s 33ms/step\n",
            "4 [D loss: 0.265893, acc.:93.75%] [G loss: 1.119369]\n",
            "[0.5972768068313599, 0.30597981438040733, 0.29327306896448135, 0.2980071119964123, 0.26589292753487825] [0.8387894630432129, 0.8586657047271729, 0.8993402123451233, 0.9689038395881653, 1.119368553161621]\n"
          ]
        }
      ]
    },
    {
      "cell_type": "code",
      "source": [
        "import matplotlib.pyplot as plt\n",
        "plt.plot(d_loss_arr, label='D Loss')\n",
        "plt.plot(g_loss_arr, label='G Loss')\n",
        "plt.xlabel('Epochs')\n",
        "plt.ylabel('Loss')\n",
        "plt.legend()\n",
        "plt.show()\n"
      ],
      "metadata": {
        "colab": {
          "base_uri": "https://localhost:8080/",
          "height": 449
        },
        "id": "ZPkpjtPyv2uM",
        "outputId": "cf73bcf9-aa03-4d02-d72d-a3246fb1be75"
      },
      "execution_count": null,
      "outputs": [
        {
          "output_type": "display_data",
          "data": {
            "text/plain": [
              "<Figure size 640x480 with 1 Axes>"
            ],
            "image/png": "[encoded data removed]"
          },
          "metadata": {}
        }
      ]
    },
    {
      "cell_type": "code",
      "source": [
        "#FOr single image\n",
        "# example of generating an image for a specific point in the latent space\n",
        "from keras.models import load_model\n",
        "from numpy import asarray\n",
        "from matplotlib import pyplot\n",
        "from numpy.random import randn\n",
        "\n",
        "# load model\n",
        "model = load_model('gen_model_test.h5')\n",
        "\n",
        "#To create same image, suppy same vector each time\n",
        "# all 0s\n",
        "#vector = asarray([[0. for _ in range(100)]])  #Vector of all zeros\n",
        "\n",
        "#To create random images each time...\n",
        "vector = randn(100) #Vector of random numbers (creates a column, need to reshape)\n",
        "vector = vector.reshape(1, 100)\n",
        "\n",
        "# generate image\n",
        "X = model.predict(vector)\n",
        "\n",
        "# plot the result\n",
        "pyplot.imshow(X[0, :, :, 0], cmap='gray_r')\n",
        "pyplot.show()\n",
        "\n",
        "\n"
      ],
      "metadata": {
        "colab": {
          "base_uri": "https://localhost:8080/",
          "height": 467
        },
        "id": "aqeFn6FoCcZC",
        "outputId": "63dd98a6-1320-4195-8a8a-de168adec652"
      },
      "execution_count": null,
      "outputs": [
        {
          "output_type": "stream",
          "name": "stderr",
          "text": [
            "WARNING:tensorflow:Error in loading the saved optimizer state. As a result, your model is starting with a freshly initialized optimizer.\n"
          ]
        },
        {
          "output_type": "stream",
          "name": "stdout",
          "text": [
            "1/1 [==============================] - 0s 111ms/step\n"
          ]
        },
        {
          "output_type": "display_data",
          "data": {
            "text/plain": [
              "<Figure size 640x480 with 1 Axes>"
            ],
            "image/png": "[encoded data removed]"
          },
          "metadata": {}
        }
      ]
    }
  ]
}